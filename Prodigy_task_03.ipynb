{
  "nbformat": 4,
  "nbformat_minor": 0,
  "metadata": {
    "colab": {
      "provenance": []
    },
    "kernelspec": {
      "name": "python3",
      "display_name": "Python 3"
    },
    "language_info": {
      "name": "python"
    }
  },
  "cells": [
    {
      "cell_type": "code",
      "execution_count": null,
      "metadata": {
        "id": "lC8vGRUONjKd",
        "colab": {
          "base_uri": "https://localhost:8080/"
        },
        "outputId": "59b7d3d1-5a3a-4843-b7de-4400775affd1"
      },
      "outputs": [
        {
          "output_type": "stream",
          "name": "stdout",
          "text": [
            "--2024-11-16 14:05:39--  https://archive.ics.uci.edu/ml/machine-learning-databases/00222/bank-additional.zip\n",
            "Resolving archive.ics.uci.edu (archive.ics.uci.edu)... 128.195.10.252\n",
            "Connecting to archive.ics.uci.edu (archive.ics.uci.edu)|128.195.10.252|:443... connected.\n",
            "HTTP request sent, awaiting response... 200 OK\n",
            "Length: unspecified\n",
            "Saving to: ‘bank-additional.zip’\n",
            "\n",
            "bank-additional.zip     [<=>                 ]       0  --.-KB/s               "
          ]
        }
      ],
      "source": [
        "import pandas as pd\n",
        "from sklearn.model_selection import train_test_split\n",
        "from sklearn.tree import DecisionTreeClassifier\n",
        "from sklearn.metrics import accuracy_score, classification_report, confusion_matrix\n",
        "from sklearn.preprocessing import LabelEncoder\n",
        "url = 'https://archive.ics.uci.edu/ml/machine-learning-databases/00222/bank-additional.zip'\n",
        "!wget -O bank-additional.zip $url\n",
        "!unzip -o bank-additional.zip\n",
        "df = pd.read_csv('bank-additional/bank-additional-full.csv', sep=';')\n",
        "print(\"First few rows of the dataset:\")\n",
        "print(df.head())\n",
        "label_encoder = LabelEncoder()\n",
        "for column in df.select_dtypes(include=['object']).columns:\n",
        "    df[column] = label_encoder.fit_transform(df[column])\n",
        "X = df.drop(columns=['y'])\n",
        "y = df['y']\n",
        "X_train, X_test, y_train, y_test = train_test_split(X, y, test_size=0.3, random_state=42)"
      ]
    }
  ]
}